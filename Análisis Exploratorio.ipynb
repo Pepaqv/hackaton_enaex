{
 "cells": [
  {
   "cell_type": "code",
   "execution_count": 1,
   "metadata": {},
   "outputs": [],
   "source": [
    "import numpy as np\n",
    "import pandas as pd\n",
    "import seaborn as sns\n",
    "import matplotlib.pyplot as plt"
   ]
  },
  {
   "cell_type": "markdown",
   "metadata": {},
   "source": [
    "Importación de data"
   ]
  },
  {
   "cell_type": "code",
   "execution_count": 2,
   "metadata": {},
   "outputs": [],
   "source": [
    "df = pd.read_excel(r'C:\\Users\\pepaq\\Documents\\Data Science\\Hackaton Enaex_201908\\BaseDatosHistorica_Tronadura_Hackathon.xlsx', skiprows=2)"
   ]
  },
  {
   "cell_type": "code",
   "execution_count": 3,
   "metadata": {},
   "outputs": [
    {
     "data": {
      "text/plain": [
       "(2002, 24)"
      ]
     },
     "execution_count": 3,
     "metadata": {},
     "output_type": "execute_result"
    }
   ],
   "source": [
    "df.shape #base con 2000 registros app, 24 variables"
   ]
  },
  {
   "cell_type": "code",
   "execution_count": 4,
   "metadata": {},
   "outputs": [
    {
     "data": {
      "text/plain": [
       "Index(['Fase', 'Banco', 'Tipo de tronadura', 'Tipo Material', 'M',\n",
       "       'Dominio Estructural', 'Diámetro', 'BxS', 'Tiempo entre Pozos Filas ms',\n",
       "       'Fc', 'Tipo Explosivo', 'P10', 'P20', 'P30', 'P40', 'P50', 'P60', 'P70',\n",
       "       'P80', 'P90', 'P100', 'Este', 'Norte', 'Cota'],\n",
       "      dtype='object')"
      ]
     },
     "execution_count": 4,
     "metadata": {},
     "output_type": "execute_result"
    }
   ],
   "source": [
    "df.columns"
   ]
  },
  {
   "cell_type": "code",
   "execution_count": 5,
   "metadata": {},
   "outputs": [
    {
     "data": {
      "text/plain": [
       "Fase                            object\n",
       "Banco                          float64\n",
       "Tipo de tronadura               object\n",
       "Tipo Material                   object\n",
       "M                               object\n",
       "Dominio Estructural             object\n",
       "Diámetro                       float64\n",
       "BxS                             object\n",
       "Tiempo entre Pozos Filas ms     object\n",
       "Fc                             float64\n",
       "Tipo Explosivo                  object\n",
       "P10                            float64\n",
       "P20                             object\n",
       "P30                             object\n",
       "P40                            float64\n",
       "P50                             object\n",
       "P60                            float64\n",
       "P70                             object\n",
       "P80                            float64\n",
       "P90                            float64\n",
       "P100                           float64\n",
       "Este                            object\n",
       "Norte                           object\n",
       "Cota                           float64\n",
       "dtype: object"
      ]
     },
     "execution_count": 5,
     "metadata": {},
     "output_type": "execute_result"
    }
   ],
   "source": [
    "df.dtypes"
   ]
  },
  {
   "cell_type": "code",
   "execution_count": 6,
   "metadata": {},
   "outputs": [
    {
     "data": {
      "text/html": [
       "<div>\n",
       "<style scoped>\n",
       "    .dataframe tbody tr th:only-of-type {\n",
       "        vertical-align: middle;\n",
       "    }\n",
       "\n",
       "    .dataframe tbody tr th {\n",
       "        vertical-align: top;\n",
       "    }\n",
       "\n",
       "    .dataframe thead th {\n",
       "        text-align: right;\n",
       "    }\n",
       "</style>\n",
       "<table border=\"1\" class=\"dataframe\">\n",
       "  <thead>\n",
       "    <tr style=\"text-align: right;\">\n",
       "      <th></th>\n",
       "      <th>Banco</th>\n",
       "      <th>Diámetro</th>\n",
       "      <th>Fc</th>\n",
       "      <th>P10</th>\n",
       "      <th>P40</th>\n",
       "      <th>P60</th>\n",
       "      <th>P80</th>\n",
       "      <th>P90</th>\n",
       "      <th>P100</th>\n",
       "      <th>Cota</th>\n",
       "    </tr>\n",
       "  </thead>\n",
       "  <tbody>\n",
       "    <tr>\n",
       "      <th>count</th>\n",
       "      <td>1960.000000</td>\n",
       "      <td>1960.000000</td>\n",
       "      <td>1960.000000</td>\n",
       "      <td>1960.000000</td>\n",
       "      <td>1960.000000</td>\n",
       "      <td>1960.000000</td>\n",
       "      <td>1960.000000</td>\n",
       "      <td>1960.000000</td>\n",
       "      <td>1960.000000</td>\n",
       "      <td>1955.000000</td>\n",
       "    </tr>\n",
       "    <tr>\n",
       "      <th>mean</th>\n",
       "      <td>3145.892857</td>\n",
       "      <td>12.018048</td>\n",
       "      <td>358.927041</td>\n",
       "      <td>0.520009</td>\n",
       "      <td>1.850942</td>\n",
       "      <td>3.191641</td>\n",
       "      <td>5.067537</td>\n",
       "      <td>6.608904</td>\n",
       "      <td>10.739809</td>\n",
       "      <td>3148.475888</td>\n",
       "    </tr>\n",
       "    <tr>\n",
       "      <th>std</th>\n",
       "      <td>281.549700</td>\n",
       "      <td>0.621629</td>\n",
       "      <td>161.166319</td>\n",
       "      <td>0.289888</td>\n",
       "      <td>0.736276</td>\n",
       "      <td>0.810405</td>\n",
       "      <td>0.973723</td>\n",
       "      <td>1.396228</td>\n",
       "      <td>3.001368</td>\n",
       "      <td>289.625835</td>\n",
       "    </tr>\n",
       "    <tr>\n",
       "      <th>min</th>\n",
       "      <td>2810.000000</td>\n",
       "      <td>7.875000</td>\n",
       "      <td>104.000000</td>\n",
       "      <td>0.039764</td>\n",
       "      <td>0.157480</td>\n",
       "      <td>0.830000</td>\n",
       "      <td>2.952758</td>\n",
       "      <td>3.543309</td>\n",
       "      <td>4.881892</td>\n",
       "      <td>1945.000000</td>\n",
       "    </tr>\n",
       "    <tr>\n",
       "      <th>25%</th>\n",
       "      <td>2900.000000</td>\n",
       "      <td>12.250000</td>\n",
       "      <td>178.000000</td>\n",
       "      <td>0.310000</td>\n",
       "      <td>1.338583</td>\n",
       "      <td>2.560000</td>\n",
       "      <td>4.015750</td>\n",
       "      <td>5.314964</td>\n",
       "      <td>8.620000</td>\n",
       "      <td>2900.000000</td>\n",
       "    </tr>\n",
       "    <tr>\n",
       "      <th>50%</th>\n",
       "      <td>2960.000000</td>\n",
       "      <td>12.250000</td>\n",
       "      <td>452.000000</td>\n",
       "      <td>0.510000</td>\n",
       "      <td>1.732284</td>\n",
       "      <td>3.188978</td>\n",
       "      <td>5.433074</td>\n",
       "      <td>6.811027</td>\n",
       "      <td>10.332483</td>\n",
       "      <td>2960.000000</td>\n",
       "    </tr>\n",
       "    <tr>\n",
       "      <th>75%</th>\n",
       "      <td>3443.750000</td>\n",
       "      <td>12.250000</td>\n",
       "      <td>500.000000</td>\n",
       "      <td>0.708662</td>\n",
       "      <td>2.322836</td>\n",
       "      <td>3.818900</td>\n",
       "      <td>5.826775</td>\n",
       "      <td>7.637799</td>\n",
       "      <td>12.598824</td>\n",
       "      <td>3455.000000</td>\n",
       "    </tr>\n",
       "    <tr>\n",
       "      <th>max</th>\n",
       "      <td>3875.000000</td>\n",
       "      <td>12.250000</td>\n",
       "      <td>673.000000</td>\n",
       "      <td>2.440946</td>\n",
       "      <td>4.094490</td>\n",
       "      <td>5.472444</td>\n",
       "      <td>8.425201</td>\n",
       "      <td>12.010000</td>\n",
       "      <td>24.800000</td>\n",
       "      <td>5885.000000</td>\n",
       "    </tr>\n",
       "  </tbody>\n",
       "</table>\n",
       "</div>"
      ],
      "text/plain": [
       "             Banco     Diámetro           Fc          P10          P40  \\\n",
       "count  1960.000000  1960.000000  1960.000000  1960.000000  1960.000000   \n",
       "mean   3145.892857    12.018048   358.927041     0.520009     1.850942   \n",
       "std     281.549700     0.621629   161.166319     0.289888     0.736276   \n",
       "min    2810.000000     7.875000   104.000000     0.039764     0.157480   \n",
       "25%    2900.000000    12.250000   178.000000     0.310000     1.338583   \n",
       "50%    2960.000000    12.250000   452.000000     0.510000     1.732284   \n",
       "75%    3443.750000    12.250000   500.000000     0.708662     2.322836   \n",
       "max    3875.000000    12.250000   673.000000     2.440946     4.094490   \n",
       "\n",
       "               P60          P80          P90         P100         Cota  \n",
       "count  1960.000000  1960.000000  1960.000000  1960.000000  1955.000000  \n",
       "mean      3.191641     5.067537     6.608904    10.739809  3148.475888  \n",
       "std       0.810405     0.973723     1.396228     3.001368   289.625835  \n",
       "min       0.830000     2.952758     3.543309     4.881892  1945.000000  \n",
       "25%       2.560000     4.015750     5.314964     8.620000  2900.000000  \n",
       "50%       3.188978     5.433074     6.811027    10.332483  2960.000000  \n",
       "75%       3.818900     5.826775     7.637799    12.598824  3455.000000  \n",
       "max       5.472444     8.425201    12.010000    24.800000  5885.000000  "
      ]
     },
     "execution_count": 6,
     "metadata": {},
     "output_type": "execute_result"
    }
   ],
   "source": [
    "df.describe() #no muy útil porque son variables categóricas"
   ]
  },
  {
   "cell_type": "code",
   "execution_count": 7,
   "metadata": {
    "scrolled": true
   },
   "outputs": [
    {
     "data": {
      "text/plain": [
       "Fase                           42\n",
       "Banco                          42\n",
       "Tipo de tronadura              42\n",
       "Tipo Material                  42\n",
       "M                              42\n",
       "Dominio Estructural            42\n",
       "Diámetro                       42\n",
       "BxS                            42\n",
       "Tiempo entre Pozos Filas ms    43\n",
       "Fc                             42\n",
       "Tipo Explosivo                 42\n",
       "P10                            42\n",
       "P20                            42\n",
       "P30                            42\n",
       "P40                            42\n",
       "P50                            42\n",
       "P60                            42\n",
       "P70                            42\n",
       "P80                            42\n",
       "P90                            42\n",
       "P100                           42\n",
       "Este                           47\n",
       "Norte                          47\n",
       "Cota                           47\n",
       "dtype: int64"
      ]
     },
     "execution_count": 7,
     "metadata": {},
     "output_type": "execute_result"
    }
   ],
   "source": [
    "df.isnull().sum() #se detectan missing values"
   ]
  },
  {
   "cell_type": "code",
   "execution_count": 8,
   "metadata": {},
   "outputs": [],
   "source": [
    "#eliminar nans para graficar; queda pendiente decidir si se pueden imputar variables o no\n",
    "df = df.dropna()"
   ]
  },
  {
   "cell_type": "markdown",
   "metadata": {},
   "source": [
    "## Análisis por variable"
   ]
  },
  {
   "cell_type": "markdown",
   "metadata": {},
   "source": [
    "Variable objetivo: P80"
   ]
  },
  {
   "cell_type": "code",
   "execution_count": 9,
   "metadata": {},
   "outputs": [
    {
     "data": {
      "text/plain": [
       "<matplotlib.axes._subplots.AxesSubplot at 0x22d3ff18278>"
      ]
     },
     "execution_count": 9,
     "metadata": {},
     "output_type": "execute_result"
    },
    {
     "data": {
      "image/png": "[encoded data removed]",
      "text/plain": [
       "<Figure size 432x288 with 2 Axes>"
      ]
     },
     "metadata": {},
     "output_type": "display_data"
    }
   ],
   "source": [
    "#Histograma\n",
    "f, (ax_box, ax_hist) = plt.subplots(2, sharex=True, gridspec_kw={\"height_ratios\": (.15, .85)})\n",
    "sns.boxplot(df['P80'], ax=ax_box)\n",
    "sns.distplot(df['P80'], ax=ax_hist)\n"
   ]
  },
  {
   "cell_type": "markdown",
   "metadata": {},
   "source": [
    "1. Fase: Sectorización de la mina\n",
    "\n",
    "La mayoría de los registros se ubican en Stage 4 y 2, los otros no dicen mucho, se debe determinar su relevancia al modelo; existe una tendencia, al igual que P80, de concentrarse en dos grupos"
   ]
  },
  {
   "cell_type": "code",
   "execution_count": 10,
   "metadata": {},
   "outputs": [
    {
     "data": {
      "text/plain": [
       "Stage 4    1117\n",
       "Stage 2     753\n",
       "Stage 6      41\n",
       "Stage 1      31\n",
       "Stage 3       9\n",
       "Stage 5       3\n",
       "Name: Fase, dtype: int64"
      ]
     },
     "execution_count": 10,
     "metadata": {},
     "output_type": "execute_result"
    }
   ],
   "source": [
    "df['Fase'].value_counts()  "
   ]
  },
  {
   "cell_type": "code",
   "execution_count": 12,
   "metadata": {},
   "outputs": [
    {
     "data": {
      "text/plain": [
       "<seaborn.axisgrid.FacetGrid at 0x22d4120a4a8>"
      ]
     },
     "execution_count": 12,
     "metadata": {},
     "output_type": "execute_result"
    },
    {
     "data": {
      "image/png": "[encoded data removed]",
      "text/plain": [
       "<Figure size 360x360 with 1 Axes>"
      ]
     },
     "metadata": {},
     "output_type": "display_data"
    }
   ],
   "source": [
    "sns.catplot(x='Fase', kind=\"count\", palette=\"Paired\", data=df)"
   ]
  },
  {
   "cell_type": "code",
   "execution_count": 13,
   "metadata": {
    "scrolled": true
   },
   "outputs": [
    {
     "data": {
      "text/plain": [
       "<matplotlib.axes._subplots.AxesSubplot at 0x22d415285f8>"
      ]
     },
     "execution_count": 13,
     "metadata": {},
     "output_type": "execute_result"
    },
    {
     "data": {
      "image/png": "[encoded data removed]",
      "text/plain": [
       "<Figure size 432x288 with 1 Axes>"
      ]
     },
     "metadata": {},
     "output_type": "display_data"
    }
   ],
   "source": [
    "sns.boxplot( x=df['Fase'], y=df['P80'], palette=\"Paired\")"
   ]
  },
  {
   "cell_type": "code",
   "execution_count": 39,
   "metadata": {},
   "outputs": [],
   "source": [
    "#variables dummy para determinar correlación con las otras variables\n",
    "df['Stage 1'] = (df['Fase'] == 'Stage 1').astype(int)\n",
    "df['Stage 2'] = (df['Fase'] == 'Stage 2').astype(int)\n",
    "df['Stage 3'] = (df['Fase'] == 'Stage 3').astype(int)\n",
    "df['Stage 4'] = (df['Fase'] == 'Stage 4').astype(int)\n",
    "df['Stage 5'] = (df['Fase'] == 'Stage 5').astype(int)\n",
    "df['Stage 6'] = (df['Fase'] == 'Stage 6').astype(int)"
   ]
  },
  {
   "cell_type": "markdown",
   "metadata": {},
   "source": [
    "2. Banco: Altura de la tronadura:\n",
    "\n",
    "La variable está bastante concentrada en dos grupos de valores, podría categorizarse si se incluye en el modelo; se repite la tendencia de 2 grupos de la variable Fase"
   ]
  },
  {
   "cell_type": "code",
   "execution_count": 15,
   "metadata": {},
   "outputs": [
    {
     "data": {
      "text/plain": [
       "<matplotlib.axes._subplots.AxesSubplot at 0x22d415bff98>"
      ]
     },
     "execution_count": 15,
     "metadata": {},
     "output_type": "execute_result"
    },
    {
     "data": {
      "image/png": "[encoded data removed]",
      "text/plain": [
       "<Figure size 432x288 with 2 Axes>"
      ]
     },
     "metadata": {},
     "output_type": "display_data"
    }
   ],
   "source": [
    "#Histograma\n",
    "f, (ax_box, ax_hist) = plt.subplots(2, sharex=True, gridspec_kw={\"height_ratios\": (.15, .85)})\n",
    "sns.boxplot(df['Banco'], ax=ax_box)\n",
    "sns.distplot(df['Banco'], ax=ax_hist)"
   ]
  },
  {
   "cell_type": "code",
   "execution_count": 16,
   "metadata": {},
   "outputs": [
    {
     "data": {
      "text/plain": [
       "<matplotlib.axes._subplots.AxesSubplot at 0x22d415059e8>"
      ]
     },
     "execution_count": 16,
     "metadata": {},
     "output_type": "execute_result"
    },
    {
     "data": {
      "image/png": "[encoded data removed]",
      "text/plain": [
       "<Figure size 432x288 with 1 Axes>"
      ]
     },
     "metadata": {},
     "output_type": "display_data"
    }
   ],
   "source": [
    "sns.regplot(x=df['Banco'], y=df['P80'])"
   ]
  },
  {
   "cell_type": "markdown",
   "metadata": {},
   "source": [
    "3. Tipo de Tronadura: De acuerdo al propósito\n",
    "\n",
    "Los registros son en su mayoría con tronadura 2; tronadura 1 es mucho más dispersa, en qué contexto se usa?"
   ]
  },
  {
   "cell_type": "code",
   "execution_count": 17,
   "metadata": {},
   "outputs": [
    {
     "data": {
      "text/plain": [
       "Tronadura 2    1683\n",
       "Tronadura 1     271\n",
       "Name: Tipo de tronadura, dtype: int64"
      ]
     },
     "execution_count": 17,
     "metadata": {},
     "output_type": "execute_result"
    }
   ],
   "source": [
    "df['Tipo de tronadura'].value_counts()  "
   ]
  },
  {
   "cell_type": "code",
   "execution_count": 18,
   "metadata": {},
   "outputs": [
    {
     "data": {
      "text/plain": [
       "<seaborn.axisgrid.FacetGrid at 0x22d41517278>"
      ]
     },
     "execution_count": 18,
     "metadata": {},
     "output_type": "execute_result"
    },
    {
     "data": {
      "image/png": "[encoded data removed]",
      "text/plain": [
       "<Figure size 360x360 with 1 Axes>"
      ]
     },
     "metadata": {},
     "output_type": "display_data"
    }
   ],
   "source": [
    "sns.catplot(x='Tipo de tronadura', kind=\"count\", palette=\"Paired\", data=df)"
   ]
  },
  {
   "cell_type": "code",
   "execution_count": 19,
   "metadata": {
    "scrolled": true
   },
   "outputs": [
    {
     "data": {
      "text/plain": [
       "<matplotlib.axes._subplots.AxesSubplot at 0x22d40058710>"
      ]
     },
     "execution_count": 19,
     "metadata": {},
     "output_type": "execute_result"
    },
    {
     "data": {
      "image/png": "[encoded data removed]",
      "text/plain": [
       "<Figure size 432x288 with 1 Axes>"
      ]
     },
     "metadata": {},
     "output_type": "display_data"
    }
   ],
   "source": [
    "sns.boxplot( x=df['Tipo de tronadura'], y=df['P80'], palette=\"Paired\")"
   ]
  },
  {
   "cell_type": "code",
   "execution_count": 41,
   "metadata": {},
   "outputs": [],
   "source": [
    "#variables dummy para determinar correlación con las otras variables mediante test chi cuadrado\n",
    "df['Tronadura 1'] = (df['Tipo de tronadura'] == 'Tronadura 1').astype(int)\n",
    "df['Tronadura 2'] = (df['Tipo de tronadura'] == 'Tronadura 2').astype(int)"
   ]
  },
  {
   "cell_type": "markdown",
   "metadata": {},
   "source": [
    "4. Tipo de Material: Mineral o lastre\n",
    "\n",
    "P80 varia bastante dependiendo del tipo de material"
   ]
  },
  {
   "cell_type": "code",
   "execution_count": 23,
   "metadata": {},
   "outputs": [
    {
     "data": {
      "text/plain": [
       "Roca 1     1100\n",
       "Roca 2      811\n",
       "Lastre       42\n",
       "Relleno       1\n",
       "Name: Tipo Material, dtype: int64"
      ]
     },
     "execution_count": 23,
     "metadata": {},
     "output_type": "execute_result"
    }
   ],
   "source": [
    "df['Tipo Material'].value_counts()  "
   ]
  },
  {
   "cell_type": "code",
   "execution_count": 24,
   "metadata": {},
   "outputs": [
    {
     "data": {
      "text/plain": [
       "<seaborn.axisgrid.FacetGrid at 0x22d416c4160>"
      ]
     },
     "execution_count": 24,
     "metadata": {},
     "output_type": "execute_result"
    },
    {
     "data": {
      "image/png": "[encoded data removed]",
      "text/plain": [
       "<Figure size 360x360 with 1 Axes>"
      ]
     },
     "metadata": {},
     "output_type": "display_data"
    }
   ],
   "source": [
    "sns.catplot(x='Tipo Material', kind=\"count\", palette=\"Paired\", data=df)"
   ]
  },
  {
   "cell_type": "code",
   "execution_count": 25,
   "metadata": {
    "scrolled": true
   },
   "outputs": [
    {
     "data": {
      "text/plain": [
       "<matplotlib.axes._subplots.AxesSubplot at 0x22d41b25b00>"
      ]
     },
     "execution_count": 25,
     "metadata": {},
     "output_type": "execute_result"
    },
    {
     "data": {
      "image/png": "[encoded data removed]",
      "text/plain": [
       "<Figure size 432x288 with 1 Axes>"
      ]
     },
     "metadata": {},
     "output_type": "display_data"
    }
   ],
   "source": [
    "sns.boxplot( x=df['Tipo Material'], y=df['P80'], palette=\"Paired\")"
   ]
  },
  {
   "cell_type": "markdown",
   "metadata": {},
   "source": [
    "5. M: Clasificación geotécnica del macizo rocoso\n",
    "\n",
    "L4 es el más abundante y concentra el valor de P80 en un rango definido"
   ]
  },
  {
   "cell_type": "code",
   "execution_count": 27,
   "metadata": {},
   "outputs": [
    {
     "data": {
      "text/plain": [
       "L4    1078\n",
       "L1     490\n",
       "L8     264\n",
       "L2      74\n",
       "L3      31\n",
       "L7      17\n",
       "Name: M, dtype: int64"
      ]
     },
     "execution_count": 27,
     "metadata": {},
     "output_type": "execute_result"
    }
   ],
   "source": [
    "df['M'].value_counts()  "
   ]
  },
  {
   "cell_type": "code",
   "execution_count": 28,
   "metadata": {},
   "outputs": [
    {
     "data": {
      "text/plain": [
       "<seaborn.axisgrid.FacetGrid at 0x22d41acd588>"
      ]
     },
     "execution_count": 28,
     "metadata": {},
     "output_type": "execute_result"
    },
    {
     "data": {
      "image/png": "[encoded data removed]",
      "text/plain": [
       "<Figure size 360x360 with 1 Axes>"
      ]
     },
     "metadata": {},
     "output_type": "display_data"
    }
   ],
   "source": [
    "sns.catplot(x='M', kind=\"count\", palette=\"Paired\", data=df)"
   ]
  },
  {
   "cell_type": "code",
   "execution_count": 29,
   "metadata": {
    "scrolled": true
   },
   "outputs": [
    {
     "data": {
      "text/plain": [
       "<matplotlib.axes._subplots.AxesSubplot at 0x22d41c20cf8>"
      ]
     },
     "execution_count": 29,
     "metadata": {},
     "output_type": "execute_result"
    },
    {
     "data": {
      "image/png": "[encoded data removed]",
      "text/plain": [
       "<Figure size 432x288 with 1 Axes>"
      ]
     },
     "metadata": {},
     "output_type": "display_data"
    }
   ],
   "source": [
    "sns.boxplot( x=df['M'], y=df['P80'], palette=\"Paired\")"
   ]
  },
  {
   "cell_type": "markdown",
   "metadata": {},
   "source": [
    "6. Dominio Estructural: Ubicación de donde se va a tronar (zona)\n",
    "\n",
    "Mayoría al norte, noreste"
   ]
  },
  {
   "cell_type": "code",
   "execution_count": 30,
   "metadata": {},
   "outputs": [
    {
     "data": {
      "text/plain": [
       "Norte       1222\n",
       "Noreste      636\n",
       "Sureste       73\n",
       "Noroeste      22\n",
       "Este           1\n",
       "Name: Dominio Estructural, dtype: int64"
      ]
     },
     "execution_count": 30,
     "metadata": {},
     "output_type": "execute_result"
    }
   ],
   "source": [
    "df['Dominio Estructural'].value_counts()  "
   ]
  },
  {
   "cell_type": "code",
   "execution_count": 31,
   "metadata": {},
   "outputs": [
    {
     "data": {
      "text/plain": [
       "<seaborn.axisgrid.FacetGrid at 0x22d41c05fd0>"
      ]
     },
     "execution_count": 31,
     "metadata": {},
     "output_type": "execute_result"
    },
    {
     "data": {
      "image/png": "[encoded data removed]",
      "text/plain": [
       "<Figure size 360x360 with 1 Axes>"
      ]
     },
     "metadata": {},
     "output_type": "display_data"
    }
   ],
   "source": [
    "sns.catplot(x='Dominio Estructural', kind=\"count\", palette=\"Paired\", data=df)"
   ]
  },
  {
   "cell_type": "code",
   "execution_count": 32,
   "metadata": {
    "scrolled": true
   },
   "outputs": [
    {
     "data": {
      "text/plain": [
       "<matplotlib.axes._subplots.AxesSubplot at 0x22d416efa58>"
      ]
     },
     "execution_count": 32,
     "metadata": {},
     "output_type": "execute_result"
    },
    {
     "data": {
      "image/png": "[encoded data removed]",
      "text/plain": [
       "<Figure size 432x288 with 1 Axes>"
      ]
     },
     "metadata": {},
     "output_type": "display_data"
    }
   ],
   "source": [
    "sns.boxplot( x=df['Dominio Estructural'], y=df['P80'], palette=\"Paired\")"
   ]
  },
  {
   "cell_type": "markdown",
   "metadata": {},
   "source": [
    "Nota: Se descubre que existe una importante tendencia correlacionada con el comportamiento de P80; las variables que se han analizado,\n",
    "también se concentran en dos grupos; esto indicaría que no todas son relevantes al modelo ya que entregan comportamientos similares;\n",
    "Es necesario generar una matriz de correlación y realizar el test chi cuadrado entre las variables a considerar"
   ]
  }
 ],
 "metadata": {
  "kernelspec": {
   "display_name": "Python 3",
   "language": "python",
   "name": "python3"
  },
  "language_info": {
   "codemirror_mode": {
    "name": "ipython",
    "version": 3
   },
   "file_extension": ".py",
   "mimetype": "text/x-python",
   "name": "python",
   "nbconvert_exporter": "python",
   "pygments_lexer": "ipython3",
   "version": "3.6.5"
  }
 },
 "nbformat": 4,
 "nbformat_minor": 2
}
